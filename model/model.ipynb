{
 "cells": [
  {
   "cell_type": "code",
   "execution_count": 1,
   "metadata": {},
   "outputs": [],
   "source": [
    "from tensorflow import keras\n",
    "from tensorflow.keras.datasets import mnist\n",
    "from tensorflow.keras.models import Sequential\n",
    "from tensorflow.keras.layers import Dense\n",
    "from tensorflow.keras.layers import Dropout\n",
    "from tensorflow.keras.layers import Flatten\n",
    "from tensorflow.keras.layers import Conv2D\n",
    "from tensorflow.keras.layers import MaxPooling2D\n",
    "from tensorflow.keras.utils import to_categorical\n",
    "import datetime\n",
    "import numpy as np"
   ]
  },
  {
   "cell_type": "code",
   "execution_count": 2,
   "metadata": {},
   "outputs": [],
   "source": [
    "(X_train, y_train), (X_test, y_test) = mnist.load_data()"
   ]
  },
  {
   "cell_type": "code",
   "execution_count": 3,
   "metadata": {},
   "outputs": [
    {
     "data": {
      "text/plain": [
       "(60000, 28, 28)"
      ]
     },
     "execution_count": 3,
     "metadata": {},
     "output_type": "execute_result"
    }
   ],
   "source": [
    "X_train.shape"
   ]
  },
  {
   "cell_type": "code",
   "execution_count": 4,
   "metadata": {},
   "outputs": [],
   "source": [
    "import os\n",
    "import cv2\n"
   ]
  },
  {
   "cell_type": "code",
   "execution_count": 5,
   "metadata": {},
   "outputs": [],
   "source": [
    "X = []\n",
    "y = []\n",
    "for i in range(10):\n",
    "    for d in os.listdir(\"../assets/{}\".format(i)):\n",
    "        t_img = cv2.imread(\"../assets/{}\".format(i)+\"/\"+d)\n",
    "        t_img = cv2.cvtColor(t_img,cv2.COLOR_BGR2GRAY)\n",
    "        X.append(t_img)\n",
    "        y.append(i)"
   ]
  },
  {
   "cell_type": "code",
   "execution_count": 6,
   "metadata": {},
   "outputs": [],
   "source": [
    "X = np.array(X)\n",
    "y = np.array(y)"
   ]
  },
  {
   "cell_type": "code",
   "execution_count": 7,
   "metadata": {},
   "outputs": [
    {
     "data": {
      "text/plain": [
       "(3456, 28, 28)"
      ]
     },
     "metadata": {},
     "output_type": "display_data"
    },
    {
     "data": {
      "text/plain": [
       "(3456,)"
      ]
     },
     "execution_count": 7,
     "metadata": {},
     "output_type": "execute_result"
    }
   ],
   "source": [
    "display(X.shape)\n",
    "y.shape"
   ]
  },
  {
   "cell_type": "code",
   "execution_count": 8,
   "metadata": {},
   "outputs": [],
   "source": [
    "from sklearn.model_selection import train_test_split"
   ]
  },
  {
   "cell_type": "code",
   "execution_count": 11,
   "metadata": {},
   "outputs": [],
   "source": [
    "X_train,X_test, y_train, y_test = train_test_split(X,y,test_size = 0.20, random_state= 21)"
   ]
  },
  {
   "cell_type": "code",
   "execution_count": 12,
   "metadata": {},
   "outputs": [
    {
     "data": {
      "text/plain": [
       "(2764, 28, 28)"
      ]
     },
     "execution_count": 12,
     "metadata": {},
     "output_type": "execute_result"
    }
   ],
   "source": [
    "X_train.shape"
   ]
  },
  {
   "cell_type": "code",
   "execution_count": 13,
   "metadata": {},
   "outputs": [
    {
     "data": {
      "text/plain": [
       "array([7, 9, 7, 5, 1, 2, 6, 5, 7, 5, 5, 9, 6, 8, 9, 8, 9, 8, 4, 3, 7, 7,\n",
       "       8, 7, 4, 4, 2, 7, 4, 8, 5, 5, 6, 6, 4, 9, 9, 3, 4, 9, 5, 9, 7, 4,\n",
       "       7, 9, 3, 2, 5, 4, 8, 5, 2, 4, 2, 9, 1, 7, 3, 3, 1, 7, 6, 4, 4, 1,\n",
       "       1, 2, 9, 1, 9, 2, 2, 6, 9, 3, 3, 1, 2, 5, 4, 9, 2, 7, 6, 6, 8, 3,\n",
       "       2, 8, 6, 5, 2, 1, 8, 2, 1, 8, 6, 1, 1, 1, 4, 5, 7, 5, 2, 8, 6, 3,\n",
       "       8, 6, 5, 7, 1, 3, 2, 2, 6, 6, 2, 9, 7, 7, 9, 8, 5, 4, 4, 2, 3, 5,\n",
       "       2, 8, 2, 1, 6, 2, 7, 2, 8, 2, 7, 3, 6, 7, 6, 2, 5, 2, 1, 9, 4, 1,\n",
       "       3, 4, 8, 9, 8, 4, 6, 5, 3, 2, 4, 3, 9, 2, 4, 5, 3, 8, 5, 9, 9, 4,\n",
       "       5, 1, 4, 1, 9, 2, 3, 5, 1, 1, 3, 1, 9, 4, 1, 8, 3, 7, 6, 8, 4, 4,\n",
       "       3, 6, 5, 6, 5, 8, 5, 5, 6, 9, 8, 7, 5, 7, 2, 9, 4, 8, 2, 7, 9, 4,\n",
       "       2, 5, 1, 8, 8, 5, 1, 5, 4, 5, 5, 6, 5, 7, 7, 4, 3, 9, 3, 4, 6, 1,\n",
       "       3, 9, 7, 1, 7, 4, 9, 5, 5, 7, 4, 6, 3, 2, 4, 1, 8, 5, 4, 6, 3, 1,\n",
       "       6, 3, 8, 3, 3, 7, 3, 5, 8, 3, 1, 1, 6, 6, 3, 7, 6, 6, 9, 1, 2, 5,\n",
       "       6, 5, 7, 9, 7, 6, 8, 6, 2, 5, 4, 8, 2, 9, 5, 5, 1, 9, 1, 1, 6, 1,\n",
       "       7, 1, 2, 2, 1, 9, 4, 4, 6, 8, 5, 6, 2, 6, 5, 8, 7, 3, 8, 5, 4, 7,\n",
       "       2, 5, 3, 9, 4, 2, 3, 3, 4, 6, 7, 4, 1, 8, 5, 7, 3, 9, 1, 1, 2, 6,\n",
       "       8, 8, 7, 2, 8, 9, 4, 9, 6, 8, 6, 4, 7, 3, 8, 1, 5, 2, 4, 6, 2, 2,\n",
       "       3, 5, 9, 1, 1, 7, 2, 3, 6, 6, 1, 9, 3, 9, 1, 5, 5, 5, 4, 1, 5, 3,\n",
       "       3, 4, 5, 6, 8, 6, 2, 3, 8, 4, 7, 3, 4, 4, 9, 8, 4, 4, 8, 6, 5, 6,\n",
       "       4, 4, 5, 3, 4, 5, 1, 1, 9, 2, 7, 2, 5, 2, 9, 4, 9, 1, 1, 6, 3, 3,\n",
       "       4, 5, 7, 7, 3, 4, 9, 5, 5, 7, 8, 7, 5, 1, 5, 1, 5, 3, 9, 8, 7, 7,\n",
       "       2, 2, 1, 7, 3, 7, 2, 9, 2, 9, 3, 1, 7, 8, 4, 1, 8, 5, 3, 7, 3, 5,\n",
       "       9, 8, 7, 2, 9, 7, 6, 7, 2, 8, 2, 2, 2, 2, 9, 7, 7, 4, 7, 6, 2, 8,\n",
       "       8, 7, 2, 6, 8, 7, 3, 7, 6, 1, 2, 9, 2, 4, 8, 4, 8, 4, 9, 9, 9, 4,\n",
       "       3, 3, 2, 7, 5, 2, 4, 1, 4, 6, 9, 1, 1, 2, 1, 8, 1, 7, 7, 6, 8, 9,\n",
       "       1, 2, 4, 9, 2, 2, 9, 6, 2, 5, 1, 9, 5, 5, 8, 9, 5, 5, 1, 3, 9, 2,\n",
       "       7, 5, 2, 4, 8, 5, 7, 9, 3, 9, 4, 5, 2, 4, 2, 5, 7, 8, 3, 4, 8, 6,\n",
       "       4, 8, 6, 1, 8, 1, 7, 9, 1, 5, 8, 3, 6, 2, 5, 9, 5, 9, 9, 3, 6, 6,\n",
       "       2, 4, 9, 2, 2, 1, 1, 4, 5, 2, 8, 9, 9, 5, 8, 3, 5, 7, 3, 8, 1, 3,\n",
       "       5, 2, 9, 4, 9, 5, 9, 7, 1, 9, 8, 1, 5, 5, 2, 1, 6, 3, 6, 6, 6, 4,\n",
       "       7, 2, 4, 1, 7, 8, 2, 2, 2, 7, 7, 2, 3, 2, 7, 9, 5, 8, 7, 9, 3, 3,\n",
       "       2, 6, 3, 9, 2, 3, 6, 7, 2, 8])"
      ]
     },
     "execution_count": 13,
     "metadata": {},
     "output_type": "execute_result"
    }
   ],
   "source": [
    "y_test"
   ]
  },
  {
   "cell_type": "code",
   "execution_count": 14,
   "metadata": {},
   "outputs": [],
   "source": [
    "X_train = X_train.reshape((X_train.shape[0], 28, 28, 1)).astype('float32')\n",
    "X_test = X_test.reshape((X_test.shape[0], 28, 28, 1)).astype('float32')\n",
    "# normalize inputs from 0-255 to 0-1\n",
    "X_train = X_train / 255\n",
    "X_test = X_test / 255\n",
    "# one hot encode outputs\n",
    "y_train = to_categorical(y_train)\n",
    "y_test = to_categorical(y_test)\n",
    "num_classes = y_test.shape[1]"
   ]
  },
  {
   "cell_type": "code",
   "execution_count": 15,
   "metadata": {},
   "outputs": [
    {
     "data": {
      "text/plain": [
       "10"
      ]
     },
     "execution_count": 15,
     "metadata": {},
     "output_type": "execute_result"
    }
   ],
   "source": [
    "num_classes"
   ]
  },
  {
   "cell_type": "code",
   "execution_count": 16,
   "metadata": {},
   "outputs": [],
   "source": [
    "def larger_model():\n",
    "    # create model\n",
    "\tmodel = keras.Sequential(\n",
    "    [\n",
    "        Conv2D(30, (5, 5), input_shape=(28, 28, 1), activation='relu'),\n",
    "        MaxPooling2D(),\n",
    "        Conv2D(15, (3, 3), activation='relu'),\n",
    "        MaxPooling2D(),\n",
    "        Dropout(0.2),\n",
    "        Flatten(),\n",
    "        Dense(128, activation='relu'),\n",
    "        Dense(50, activation='relu'),\n",
    "        Dense(num_classes, activation='softmax')\n",
    "    ])\n",
    "    \n",
    "\n",
    "    # Compile model\n",
    "\tmodel.compile(loss='categorical_crossentropy', optimizer='adam', metrics=['accuracy'])\n",
    "\treturn model\n"
   ]
  },
  {
   "cell_type": "code",
   "execution_count": 17,
   "metadata": {},
   "outputs": [],
   "source": [
    "model = larger_model()\n",
    "log_dir = \"logs/fit/\" + datetime.datetime.now().strftime(\"%Y%m%d-%H%M%S\")\n",
    "tensorboard_callback = keras.callbacks.TensorBoard(log_dir=log_dir, histogram_freq=1)\n"
   ]
  },
  {
   "cell_type": "code",
   "execution_count": 18,
   "metadata": {},
   "outputs": [
    {
     "name": "stdout",
     "output_type": "stream",
     "text": [
      "Epoch 1/10\n",
      "277/277 [==============================] - 18s 65ms/step - loss: 1.9934 - accuracy: 0.2287 - val_loss: 1.5714 - val_accuracy: 0.4321\n",
      "Epoch 2/10\n",
      "277/277 [==============================] - 16s 59ms/step - loss: 1.0075 - accuracy: 0.6440 - val_loss: 0.5508 - val_accuracy: 0.8295\n",
      "Epoch 3/10\n",
      "277/277 [==============================] - 17s 63ms/step - loss: 0.5589 - accuracy: 0.8205 - val_loss: 0.3749 - val_accuracy: 0.8801\n",
      "Epoch 4/10\n",
      "277/277 [==============================] - 16s 58ms/step - loss: 0.3910 - accuracy: 0.8705 - val_loss: 0.3348 - val_accuracy: 0.8902\n",
      "Epoch 5/10\n",
      "277/277 [==============================] - 17s 61ms/step - loss: 0.2519 - accuracy: 0.9200 - val_loss: 0.2002 - val_accuracy: 0.9451\n",
      "Epoch 6/10\n",
      "277/277 [==============================] - 18s 67ms/step - loss: 0.2277 - accuracy: 0.9229 - val_loss: 0.1748 - val_accuracy: 0.9451\n",
      "Epoch 7/10\n",
      "277/277 [==============================] - 17s 60ms/step - loss: 0.1838 - accuracy: 0.9428 - val_loss: 0.1609 - val_accuracy: 0.9494\n",
      "Epoch 8/10\n",
      "277/277 [==============================] - 15s 55ms/step - loss: 0.1634 - accuracy: 0.9465 - val_loss: 0.1219 - val_accuracy: 0.9538\n",
      "Epoch 9/10\n",
      "277/277 [==============================] - 17s 62ms/step - loss: 0.1141 - accuracy: 0.9584 - val_loss: 0.1178 - val_accuracy: 0.9581\n",
      "Epoch 10/10\n",
      "277/277 [==============================] - 18s 66ms/step - loss: 0.1161 - accuracy: 0.9616 - val_loss: 0.0956 - val_accuracy: 0.9682\n",
      "Large CNN Error: 3.18%\n"
     ]
    }
   ],
   "source": [
    "model.fit(X_train, y_train, validation_data=(X_test, y_test), epochs=10, batch_size=10,callbacks=[tensorboard_callback])\n",
    "# Final evaluation of the model\n",
    "scores = model.evaluate(X_test, y_test, verbose=0)\n",
    "\n",
    "print(\"Large CNN Error: %.2f%%\" % (100-scores[1]*100))"
   ]
  },
  {
   "cell_type": "code",
   "execution_count": 19,
   "metadata": {},
   "outputs": [
    {
     "data": {
      "text/plain": [
       "[0.09560658782720566, 0.9682080745697021]"
      ]
     },
     "execution_count": 19,
     "metadata": {},
     "output_type": "execute_result"
    }
   ],
   "source": [
    "scores"
   ]
  },
  {
   "cell_type": "code",
   "execution_count": 20,
   "metadata": {},
   "outputs": [
    {
     "name": "stdout",
     "output_type": "stream",
     "text": [
      "WARNING:tensorflow:From <ipython-input-20-90ef15ffb35c>:1: Sequential.predict_classes (from tensorflow.python.keras.engine.sequential) is deprecated and will be removed after 2021-01-01.\n",
      "Instructions for updating:\n",
      "Please use instead:* `np.argmax(model.predict(x), axis=-1)`,   if your model does multi-class classification   (e.g. if it uses a `softmax` last-layer activation).* `(model.predict(x) > 0.5).astype(\"int32\")`,   if your model does binary classification   (e.g. if it uses a `sigmoid` last-layer activation).\n",
      "22/22 [==============================] - 1s 30ms/step\n"
     ]
    }
   ],
   "source": [
    "pred = model.predict_classes(X_test,verbose = 1)"
   ]
  },
  {
   "cell_type": "code",
   "execution_count": 21,
   "metadata": {},
   "outputs": [
    {
     "data": {
      "text/plain": [
       "array([7, 9, 7, 5, 1, 2, 6, 5, 7, 5, 5, 9, 6, 8, 9, 8, 9, 8, 4, 3, 7, 2,\n",
       "       8, 7, 4, 4, 2, 7, 4, 8, 5, 5, 6, 6, 4, 9, 9, 3, 4, 9, 5, 9, 7, 4,\n",
       "       7, 9, 3, 2, 5, 4, 8, 5, 2, 4, 2, 9, 1, 7, 3, 3, 1, 7, 6, 4, 4, 1,\n",
       "       1, 2, 9, 1, 9, 2, 2, 6, 9, 3, 3, 1, 2, 6, 4, 9, 2, 7, 6, 6, 8, 3,\n",
       "       2, 8, 8, 5, 2, 1, 8, 2, 1, 8, 6, 1, 1, 1, 4, 8, 7, 5, 2, 8, 6, 3,\n",
       "       8, 6, 5, 7, 1, 3, 2, 2, 6, 6, 2, 9, 7, 7, 9, 8, 5, 4, 4, 2, 3, 5,\n",
       "       2, 8, 2, 1, 6, 2, 7, 2, 8, 2, 7, 3, 6, 7, 6, 2, 5, 2, 1, 9, 4, 1,\n",
       "       3, 4, 8, 9, 8, 4, 6, 5, 3, 2, 4, 3, 9, 2, 4, 3, 3, 8, 5, 9, 1, 4,\n",
       "       5, 1, 4, 1, 9, 2, 3, 5, 1, 1, 3, 1, 9, 4, 1, 8, 3, 7, 6, 8, 4, 4,\n",
       "       3, 6, 5, 6, 5, 8, 5, 5, 6, 9, 8, 7, 5, 7, 2, 9, 4, 8, 2, 7, 9, 4,\n",
       "       2, 5, 1, 8, 8, 5, 1, 5, 4, 5, 5, 6, 5, 7, 7, 4, 3, 9, 3, 4, 6, 1,\n",
       "       3, 9, 7, 1, 7, 4, 9, 5, 5, 7, 4, 6, 3, 2, 4, 1, 8, 5, 4, 6, 3, 1,\n",
       "       6, 3, 8, 3, 3, 7, 3, 5, 8, 3, 1, 1, 6, 6, 3, 7, 6, 6, 9, 1, 2, 5,\n",
       "       6, 5, 7, 9, 7, 6, 5, 6, 2, 5, 4, 8, 2, 9, 5, 5, 1, 8, 1, 1, 6, 1,\n",
       "       7, 1, 2, 2, 1, 9, 4, 4, 6, 8, 5, 6, 2, 6, 5, 8, 7, 3, 8, 5, 4, 7,\n",
       "       2, 5, 3, 9, 4, 2, 3, 3, 4, 6, 7, 4, 1, 4, 5, 7, 3, 9, 1, 1, 2, 8,\n",
       "       8, 8, 7, 2, 8, 9, 4, 9, 8, 8, 6, 4, 7, 3, 8, 1, 5, 2, 4, 6, 2, 2,\n",
       "       3, 5, 9, 4, 1, 7, 2, 3, 6, 6, 1, 9, 3, 9, 1, 5, 5, 5, 4, 1, 5, 3,\n",
       "       3, 4, 5, 6, 8, 6, 2, 3, 8, 4, 7, 3, 4, 4, 9, 8, 4, 4, 8, 6, 5, 6,\n",
       "       4, 4, 5, 3, 4, 5, 1, 1, 9, 2, 7, 2, 5, 2, 9, 4, 9, 1, 1, 6, 3, 3,\n",
       "       4, 5, 7, 7, 3, 4, 9, 5, 5, 7, 8, 7, 5, 1, 5, 1, 5, 3, 9, 8, 7, 7,\n",
       "       2, 2, 1, 7, 3, 7, 2, 9, 2, 9, 3, 1, 7, 8, 4, 1, 8, 5, 3, 7, 3, 5,\n",
       "       5, 8, 7, 2, 9, 7, 6, 7, 2, 8, 2, 2, 2, 2, 9, 7, 7, 4, 7, 6, 2, 8,\n",
       "       8, 7, 2, 6, 8, 7, 3, 7, 6, 1, 2, 9, 2, 4, 8, 4, 8, 4, 9, 9, 9, 4,\n",
       "       3, 3, 2, 7, 5, 2, 4, 1, 4, 6, 6, 1, 1, 2, 1, 8, 1, 7, 7, 6, 8, 9,\n",
       "       1, 2, 4, 9, 2, 2, 9, 6, 2, 5, 1, 9, 5, 5, 8, 9, 5, 5, 7, 8, 9, 2,\n",
       "       7, 5, 2, 4, 8, 5, 7, 9, 3, 9, 4, 5, 2, 4, 2, 5, 7, 8, 3, 4, 8, 8,\n",
       "       4, 8, 6, 1, 8, 1, 7, 9, 1, 5, 8, 3, 8, 2, 5, 9, 8, 9, 9, 3, 6, 6,\n",
       "       2, 4, 9, 2, 2, 1, 1, 4, 5, 2, 8, 9, 9, 5, 8, 3, 5, 7, 3, 8, 1, 3,\n",
       "       5, 2, 5, 4, 9, 5, 9, 7, 1, 8, 8, 1, 5, 5, 2, 1, 6, 3, 6, 6, 6, 4,\n",
       "       7, 2, 4, 1, 7, 8, 2, 2, 2, 7, 7, 2, 3, 2, 7, 9, 5, 8, 7, 9, 3, 3,\n",
       "       2, 5, 3, 9, 2, 3, 6, 7, 2, 8])"
      ]
     },
     "execution_count": 21,
     "metadata": {},
     "output_type": "execute_result"
    }
   ],
   "source": [
    "pred"
   ]
  },
  {
   "cell_type": "code",
   "execution_count": 22,
   "metadata": {},
   "outputs": [
    {
     "data": {
      "image/png": "[encoded data removed]",
      "text/plain": [
       "<Figure size 432x288 with 1 Axes>"
      ]
     },
     "metadata": {
      "needs_background": "light"
     },
     "output_type": "display_data"
    },
    {
     "data": {
      "image/png": "[encoded data removed]",
      "text/plain": [
       "<Figure size 432x288 with 1 Axes>"
      ]
     },
     "metadata": {
      "needs_background": "light"
     },
     "output_type": "display_data"
    },
    {
     "data": {
      "image/png": "[encoded data removed]",
      "text/plain": [
       "<Figure size 432x288 with 1 Axes>"
      ]
     },
     "metadata": {
      "needs_background": "light"
     },
     "output_type": "display_data"
    },
    {
     "data": {
      "image/png": "[encoded data removed]",
      "text/plain": [
       "<Figure size 432x288 with 1 Axes>"
      ]
     },
     "metadata": {
      "needs_background": "light"
     },
     "output_type": "display_data"
    },
    {
     "data": {
      "image/png": "[encoded data removed]",
      "text/plain": [
       "<Figure size 432x288 with 1 Axes>"
      ]
     },
     "metadata": {
      "needs_background": "light"
     },
     "output_type": "display_data"
    },
    {
     "data": {
      "image/png": "[encoded data removed]",
      "text/plain": [
       "<Figure size 432x288 with 1 Axes>"
      ]
     },
     "metadata": {
      "needs_background": "light"
     },
     "output_type": "display_data"
    },
    {
     "data": {
      "image/png": "[encoded data removed]",
      "text/plain": [
       "<Figure size 432x288 with 1 Axes>"
      ]
     },
     "metadata": {
      "needs_background": "light"
     },
     "output_type": "display_data"
    },
    {
     "data": {
      "image/png": "[encoded data removed]",
      "text/plain": [
       "<Figure size 432x288 with 1 Axes>"
      ]
     },
     "metadata": {
      "needs_background": "light"
     },
     "output_type": "display_data"
    },
    {
     "data": {
      "image/png": "[encoded data removed]",
      "text/plain": [
       "<Figure size 432x288 with 1 Axes>"
      ]
     },
     "metadata": {
      "needs_background": "light"
     },
     "output_type": "display_data"
    },
    {
     "data": {
      "image/png": "[encoded data removed]",
      "text/plain": [
       "<Figure size 432x288 with 1 Axes>"
      ]
     },
     "metadata": {
      "needs_background": "light"
     },
     "output_type": "display_data"
    },
    {
     "data": {
      "image/png": "[encoded data removed]",
      "text/plain": [
       "<Figure size 432x288 with 1 Axes>"
      ]
     },
     "metadata": {
      "needs_background": "light"
     },
     "output_type": "display_data"
    },
    {
     "data": {
      "image/png": "[encoded data removed]",
      "text/plain": [
       "<Figure size 432x288 with 1 Axes>"
      ]
     },
     "metadata": {
      "needs_background": "light"
     },
     "output_type": "display_data"
    },
    {
     "data": {
      "image/png": "[encoded data removed]",
      "text/plain": [
       "<Figure size 432x288 with 1 Axes>"
      ]
     },
     "metadata": {
      "needs_background": "light"
     },
     "output_type": "display_data"
    },
    {
     "data": {
      "image/png": "[encoded data removed]",
      "text/plain": [
       "<Figure size 432x288 with 1 Axes>"
      ]
     },
     "metadata": {
      "needs_background": "light"
     },
     "output_type": "display_data"
    },
    {
     "data": {
      "image/png": "[encoded data removed]",
      "text/plain": [
       "<Figure size 432x288 with 1 Axes>"
      ]
     },
     "metadata": {
      "needs_background": "light"
     },
     "output_type": "display_data"
    },
    {
     "data": {
      "image/png": "[encoded data removed]",
      "text/plain": [
       "<Figure size 432x288 with 1 Axes>"
      ]
     },
     "metadata": {
      "needs_background": "light"
     },
     "output_type": "display_data"
    },
    {
     "data": {
      "image/png": "[encoded data removed]",
      "text/plain": [
       "<Figure size 432x288 with 1 Axes>"
      ]
     },
     "metadata": {
      "needs_background": "light"
     },
     "output_type": "display_data"
    },
    {
     "data": {
      "image/png": "[encoded data removed]",
      "text/plain": [
       "<Figure size 432x288 with 1 Axes>"
      ]
     },
     "metadata": {
      "needs_background": "light"
     },
     "output_type": "display_data"
    },
    {
     "data": {
      "image/png": "[encoded data removed]",
      "text/plain": [
       "<Figure size 432x288 with 1 Axes>"
      ]
     },
     "metadata": {
      "needs_background": "light"
     },
     "output_type": "display_data"
    },
    {
     "data": {
      "image/png": "[encoded data removed]",
      "text/plain": [
       "<Figure size 432x288 with 1 Axes>"
      ]
     },
     "metadata": {
      "needs_background": "light"
     },
     "output_type": "display_data"
    }
   ],
   "source": [
    "import matplotlib.pyplot as plt\n",
    "\n",
    "for i in range(20):\n",
    "    \n",
    "    plt.imshow(X_test[i])\n",
    "    plt.title(pred[i])\n",
    "    plt.show()"
   ]
  },
  {
   "cell_type": "code",
   "execution_count": 23,
   "metadata": {},
   "outputs": [
    {
     "data": {
      "text/html": [
       "\n",
       "      <iframe id=\"tensorboard-frame-7b01b933cf537314\" width=\"100%\" height=\"800\" frameborder=\"0\">\n",
       "      </iframe>\n",
       "      <script>\n",
       "        (function() {\n",
       "          const frame = document.getElementById(\"tensorboard-frame-7b01b933cf537314\");\n",
       "          const url = new URL(\"/\", window.location);\n",
       "          const port = 6006;\n",
       "          if (port) {\n",
       "            url.port = port;\n",
       "          }\n",
       "          frame.src = url;\n",
       "        })();\n",
       "      </script>\n",
       "    "
      ],
      "text/plain": [
       "<IPython.core.display.HTML object>"
      ]
     },
     "metadata": {},
     "output_type": "display_data"
    }
   ],
   "source": [
    "%load_ext tensorboard\n",
    "%tensorboard --logdir logs/fit"
   ]
  },
  {
   "cell_type": "code",
   "execution_count": 24,
   "metadata": {},
   "outputs": [
    {
     "name": "stdout",
     "output_type": "stream",
     "text": [
      "WARNING:tensorflow:From /home/kaydee/anaconda3/lib/python3.8/site-packages/tensorflow/python/ops/resource_variable_ops.py:1813: calling BaseResourceVariable.__init__ (from tensorflow.python.ops.resource_variable_ops) with constraint is deprecated and will be removed in a future version.\n",
      "Instructions for updating:\n",
      "If using Keras pass *_constraint arguments to layers.\n",
      "INFO:tensorflow:Assets written to: drecv2/assets\n"
     ]
    }
   ],
   "source": [
    "model.save(\"drecv2\")"
   ]
  },
  {
   "cell_type": "code",
   "execution_count": null,
   "metadata": {},
   "outputs": [],
   "source": []
  }
 ],
 "metadata": {
  "kernelspec": {
   "display_name": "Python 3",
   "language": "python",
   "name": "python3"
  },
  "language_info": {
   "codemirror_mode": {
    "name": "ipython",
    "version": 3
   },
   "file_extension": ".py",
   "mimetype": "text/x-python",
   "name": "python",
   "nbconvert_exporter": "python",
   "pygments_lexer": "ipython3",
   "version": "3.8.5"
  }
 },
 "nbformat": 4,
 "nbformat_minor": 4
}
